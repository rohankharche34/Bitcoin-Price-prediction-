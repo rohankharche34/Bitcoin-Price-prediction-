{
  "cells": [
    {
      "cell_type": "code",
      "execution_count": null,
      "metadata": {
        "colab": {
          "base_uri": "https://localhost:8080/"
        },
        "id": "S-6Y3w5rn907",
        "outputId": "8e1ba143-5bd7-4d64-a448-5b9b5a34f22c"
      },
      "outputs": [
        {
          "name": "stdout",
          "output_type": "stream",
          "text": [
            "Path to dataset files: /kaggle/input/bitcoin-price-dataset\n",
            "Files in dataset directory: ['bitcoin_2017_to_2023.csv', '.nfs000000000999dedc000000e9']\n"
          ]
        }
      ],
      "source": [
        "import kagglehub\n",
        "import pandas as pd\n",
        "import numpy as np\n",
        "import os\n",
        "from matplotlib import pyplot as plt\n",
        "\n",
        "# Download latest version\n",
        "path = kagglehub.dataset_download(\"jkraak/bitcoin-price-dataset\")\n",
        "\n",
        "print(\"Path to dataset files:\", path)\n",
        "print(\"Files in dataset directory:\", os.listdir(path)) # Getting the list of file present in the directory"
      ]
    },
    {
      "cell_type": "code",
      "execution_count": null,
      "metadata": {
        "colab": {
          "base_uri": "https://localhost:8080/",
          "height": 206
        },
        "id": "SychUHN1pWw5",
        "outputId": "95de371d-d024-48c7-c0f5-9d5b32a2488f"
      },
      "outputs": [
        {
          "data": {
            "application/vnd.google.colaboratory.intrinsic+json": {
              "summary": "{\n  \"name\": \"df\",\n  \"rows\": 100000,\n  \"fields\": [\n    {\n      \"column\": \"timestamp\",\n      \"properties\": {\n        \"dtype\": \"object\",\n        \"num_unique_values\": 100000,\n        \"samples\": [\n          \"2023-06-09 23:18:00\",\n          \"2023-06-06 20:55:00\",\n          \"2023-07-18 18:15:00\"\n        ],\n        \"semantic_type\": \"\",\n        \"description\": \"\"\n      }\n    },\n    {\n      \"column\": \"open\",\n      \"properties\": {\n        \"dtype\": \"number\",\n        \"std\": 1849.1160943172072,\n        \"min\": 24856.98,\n        \"max\": 31798.01,\n        \"num_unique_values\": 71001,\n        \"samples\": [\n          29991.99,\n          30987.19,\n          26793.02\n        ],\n        \"semantic_type\": \"\",\n        \"description\": \"\"\n      }\n    },\n    {\n      \"column\": \"high\",\n      \"properties\": {\n        \"dtype\": \"number\",\n        \"std\": 1849.2002420790066,\n        \"min\": 24879.41,\n        \"max\": 31804.2,\n        \"num_unique_values\": 62440,\n        \"samples\": [\n          25847.55,\n          29344.58,\n          29380.75\n        ],\n        \"semantic_type\": \"\",\n        \"description\": \"\"\n      }\n    },\n    {\n      \"column\": \"low\",\n      \"properties\": {\n        \"dtype\": \"number\",\n        \"std\": 1848.92848713973,\n        \"min\": 24800.0,\n        \"max\": 31723.97,\n        \"num_unique_values\": 63374,\n        \"samples\": [\n          25603.07,\n          30053.64,\n          27857.4\n        ],\n        \"semantic_type\": \"\",\n        \"description\": \"\"\n      }\n    },\n    {\n      \"column\": \"close\",\n      \"properties\": {\n        \"dtype\": \"number\",\n        \"std\": 1849.1094252049152,\n        \"min\": 24856.98,\n        \"max\": 31798.0,\n        \"num_unique_values\": 71084,\n        \"samples\": [\n          25975.4,\n          25827.27,\n          27154.63\n        ],\n        \"semantic_type\": \"\",\n        \"description\": \"\"\n      }\n    },\n    {\n      \"column\": \"volume\",\n      \"properties\": {\n        \"dtype\": \"number\",\n        \"std\": 51.54819317202341,\n        \"min\": 0.2597,\n        \"max\": 2013.05145,\n        \"num_unique_values\": 98757,\n        \"samples\": [\n          10.34067,\n          29.79526,\n          58.18034\n        ],\n        \"semantic_type\": \"\",\n        \"description\": \"\"\n      }\n    },\n    {\n      \"column\": \"quote_asset_volume\",\n      \"properties\": {\n        \"dtype\": \"number\",\n        \"std\": 1481027.8568920232,\n        \"min\": 7753.510453,\n        \"max\": 61389049.2242418,\n        \"num_unique_values\": 100000,\n        \"samples\": [\n          470463.0895992,\n          842590.8274343,\n          981844.5507204\n        ],\n        \"semantic_type\": \"\",\n        \"description\": \"\"\n      }\n    },\n    {\n      \"column\": \"number_of_trades\",\n      \"properties\": {\n        \"dtype\": \"number\",\n        \"std\": 816,\n        \"min\": 61,\n        \"max\": 41976,\n        \"num_unique_values\": 3751,\n        \"samples\": [\n          1085,\n          3843,\n          3483\n        ],\n        \"semantic_type\": \"\",\n        \"description\": \"\"\n      }\n    },\n    {\n      \"column\": \"taker_buy_base_asset_volume\",\n      \"properties\": {\n        \"dtype\": \"number\",\n        \"std\": 26.480720751081034,\n        \"min\": 0.03651,\n        \"max\": 1325.84575,\n        \"num_unique_values\": 96972,\n        \"samples\": [\n          7.05379,\n          1.29353,\n          9.44834\n        ],\n        \"semantic_type\": \"\",\n        \"description\": \"\"\n      }\n    },\n    {\n      \"column\": \"taker_buy_quote_asset_volume\",\n      \"properties\": {\n        \"dtype\": \"number\",\n        \"std\": 764819.4552979078,\n        \"min\": 987.2307651,\n        \"max\": 41324502.2128624,\n        \"num_unique_values\": 100000,\n        \"samples\": [\n          175325.7797013,\n          329528.9858822,\n          393141.6595526\n        ],\n        \"semantic_type\": \"\",\n        \"description\": \"\"\n      }\n    }\n  ]\n}",
              "type": "dataframe",
              "variable_name": "df"
            },
            "text/html": [
              "\n",
              "  <div id=\"df-1ed3c6cf-8c2b-4c89-bbc8-98b1e61fa366\" class=\"colab-df-container\">\n",
              "    <div>\n",
              "<style scoped>\n",
              "    .dataframe tbody tr th:only-of-type {\n",
              "        vertical-align: middle;\n",
              "    }\n",
              "\n",
              "    .dataframe tbody tr th {\n",
              "        vertical-align: top;\n",
              "    }\n",
              "\n",
              "    .dataframe thead th {\n",
              "        text-align: right;\n",
              "    }\n",
              "</style>\n",
              "<table border=\"1\" class=\"dataframe\">\n",
              "  <thead>\n",
              "    <tr style=\"text-align: right;\">\n",
              "      <th></th>\n",
              "      <th>timestamp</th>\n",
              "      <th>open</th>\n",
              "      <th>high</th>\n",
              "      <th>low</th>\n",
              "      <th>close</th>\n",
              "      <th>volume</th>\n",
              "      <th>quote_asset_volume</th>\n",
              "      <th>number_of_trades</th>\n",
              "      <th>taker_buy_base_asset_volume</th>\n",
              "      <th>taker_buy_quote_asset_volume</th>\n",
              "    </tr>\n",
              "  </thead>\n",
              "  <tbody>\n",
              "    <tr>\n",
              "      <th>0</th>\n",
              "      <td>2023-08-01 13:19:00</td>\n",
              "      <td>28902.48</td>\n",
              "      <td>28902.49</td>\n",
              "      <td>28902.48</td>\n",
              "      <td>28902.49</td>\n",
              "      <td>4.68658</td>\n",
              "      <td>1.354538e+05</td>\n",
              "      <td>258</td>\n",
              "      <td>0.89391</td>\n",
              "      <td>25836.224836</td>\n",
              "    </tr>\n",
              "    <tr>\n",
              "      <th>1</th>\n",
              "      <td>2023-08-01 13:18:00</td>\n",
              "      <td>28902.48</td>\n",
              "      <td>28902.49</td>\n",
              "      <td>28902.48</td>\n",
              "      <td>28902.49</td>\n",
              "      <td>4.77589</td>\n",
              "      <td>1.380351e+05</td>\n",
              "      <td>317</td>\n",
              "      <td>2.24546</td>\n",
              "      <td>64899.385195</td>\n",
              "    </tr>\n",
              "    <tr>\n",
              "      <th>2</th>\n",
              "      <td>2023-08-01 13:17:00</td>\n",
              "      <td>28908.52</td>\n",
              "      <td>28908.53</td>\n",
              "      <td>28902.48</td>\n",
              "      <td>28902.49</td>\n",
              "      <td>11.52263</td>\n",
              "      <td>3.330532e+05</td>\n",
              "      <td>451</td>\n",
              "      <td>2.70873</td>\n",
              "      <td>78290.170121</td>\n",
              "    </tr>\n",
              "    <tr>\n",
              "      <th>3</th>\n",
              "      <td>2023-08-01 13:16:00</td>\n",
              "      <td>28907.41</td>\n",
              "      <td>28912.74</td>\n",
              "      <td>28907.41</td>\n",
              "      <td>28908.53</td>\n",
              "      <td>15.89610</td>\n",
              "      <td>4.595556e+05</td>\n",
              "      <td>483</td>\n",
              "      <td>10.22981</td>\n",
              "      <td>295738.166916</td>\n",
              "    </tr>\n",
              "    <tr>\n",
              "      <th>4</th>\n",
              "      <td>2023-08-01 13:15:00</td>\n",
              "      <td>28896.00</td>\n",
              "      <td>28907.42</td>\n",
              "      <td>28893.03</td>\n",
              "      <td>28907.41</td>\n",
              "      <td>37.74657</td>\n",
              "      <td>1.090761e+06</td>\n",
              "      <td>686</td>\n",
              "      <td>16.50452</td>\n",
              "      <td>476955.246611</td>\n",
              "    </tr>\n",
              "  </tbody>\n",
              "</table>\n",
              "</div>\n",
              "    <div class=\"colab-df-buttons\">\n",
              "\n",
              "  <div class=\"colab-df-container\">\n",
              "    <button class=\"colab-df-convert\" onclick=\"convertToInteractive('df-1ed3c6cf-8c2b-4c89-bbc8-98b1e61fa366')\"\n",
              "            title=\"Convert this dataframe to an interactive table.\"\n",
              "            style=\"display:none;\">\n",
              "\n",
              "  <svg xmlns=\"http://www.w3.org/2000/svg\" height=\"24px\" viewBox=\"0 -960 960 960\">\n",
              "    <path d=\"M120-120v-720h720v720H120Zm60-500h600v-160H180v160Zm220 220h160v-160H400v160Zm0 220h160v-160H400v160ZM180-400h160v-160H180v160Zm440 0h160v-160H620v160ZM180-180h160v-160H180v160Zm440 0h160v-160H620v160Z\"/>\n",
              "  </svg>\n",
              "    </button>\n",
              "\n",
              "  <style>\n",
              "    .colab-df-container {\n",
              "      display:flex;\n",
              "      gap: 12px;\n",
              "    }\n",
              "\n",
              "    .colab-df-convert {\n",
              "      background-color: #E8F0FE;\n",
              "      border: none;\n",
              "      border-radius: 50%;\n",
              "      cursor: pointer;\n",
              "      display: none;\n",
              "      fill: #1967D2;\n",
              "      height: 32px;\n",
              "      padding: 0 0 0 0;\n",
              "      width: 32px;\n",
              "    }\n",
              "\n",
              "    .colab-df-convert:hover {\n",
              "      background-color: #E2EBFA;\n",
              "      box-shadow: 0px 1px 2px rgba(60, 64, 67, 0.3), 0px 1px 3px 1px rgba(60, 64, 67, 0.15);\n",
              "      fill: #174EA6;\n",
              "    }\n",
              "\n",
              "    .colab-df-buttons div {\n",
              "      margin-bottom: 4px;\n",
              "    }\n",
              "\n",
              "    [theme=dark] .colab-df-convert {\n",
              "      background-color: #3B4455;\n",
              "      fill: #D2E3FC;\n",
              "    }\n",
              "\n",
              "    [theme=dark] .colab-df-convert:hover {\n",
              "      background-color: #434B5C;\n",
              "      box-shadow: 0px 1px 3px 1px rgba(0, 0, 0, 0.15);\n",
              "      filter: drop-shadow(0px 1px 2px rgba(0, 0, 0, 0.3));\n",
              "      fill: #FFFFFF;\n",
              "    }\n",
              "  </style>\n",
              "\n",
              "    <script>\n",
              "      const buttonEl =\n",
              "        document.querySelector('#df-1ed3c6cf-8c2b-4c89-bbc8-98b1e61fa366 button.colab-df-convert');\n",
              "      buttonEl.style.display =\n",
              "        google.colab.kernel.accessAllowed ? 'block' : 'none';\n",
              "\n",
              "      async function convertToInteractive(key) {\n",
              "        const element = document.querySelector('#df-1ed3c6cf-8c2b-4c89-bbc8-98b1e61fa366');\n",
              "        const dataTable =\n",
              "          await google.colab.kernel.invokeFunction('convertToInteractive',\n",
              "                                                    [key], {});\n",
              "        if (!dataTable) return;\n",
              "\n",
              "        const docLinkHtml = 'Like what you see? Visit the ' +\n",
              "          '<a target=\"_blank\" href=https://colab.research.google.com/notebooks/data_table.ipynb>data table notebook</a>'\n",
              "          + ' to learn more about interactive tables.';\n",
              "        element.innerHTML = '';\n",
              "        dataTable['output_type'] = 'display_data';\n",
              "        await google.colab.output.renderOutput(dataTable, element);\n",
              "        const docLink = document.createElement('div');\n",
              "        docLink.innerHTML = docLinkHtml;\n",
              "        element.appendChild(docLink);\n",
              "      }\n",
              "    </script>\n",
              "  </div>\n",
              "\n",
              "\n",
              "<div id=\"df-1c182fc9-e96a-4490-8b4e-9db363ad0f9a\">\n",
              "  <button class=\"colab-df-quickchart\" onclick=\"quickchart('df-1c182fc9-e96a-4490-8b4e-9db363ad0f9a')\"\n",
              "            title=\"Suggest charts\"\n",
              "            style=\"display:none;\">\n",
              "\n",
              "<svg xmlns=\"http://www.w3.org/2000/svg\" height=\"24px\"viewBox=\"0 0 24 24\"\n",
              "     width=\"24px\">\n",
              "    <g>\n",
              "        <path d=\"M19 3H5c-1.1 0-2 .9-2 2v14c0 1.1.9 2 2 2h14c1.1 0 2-.9 2-2V5c0-1.1-.9-2-2-2zM9 17H7v-7h2v7zm4 0h-2V7h2v10zm4 0h-2v-4h2v4z\"/>\n",
              "    </g>\n",
              "</svg>\n",
              "  </button>\n",
              "\n",
              "<style>\n",
              "  .colab-df-quickchart {\n",
              "      --bg-color: #E8F0FE;\n",
              "      --fill-color: #1967D2;\n",
              "      --hover-bg-color: #E2EBFA;\n",
              "      --hover-fill-color: #174EA6;\n",
              "      --disabled-fill-color: #AAA;\n",
              "      --disabled-bg-color: #DDD;\n",
              "  }\n",
              "\n",
              "  [theme=dark] .colab-df-quickchart {\n",
              "      --bg-color: #3B4455;\n",
              "      --fill-color: #D2E3FC;\n",
              "      --hover-bg-color: #434B5C;\n",
              "      --hover-fill-color: #FFFFFF;\n",
              "      --disabled-bg-color: #3B4455;\n",
              "      --disabled-fill-color: #666;\n",
              "  }\n",
              "\n",
              "  .colab-df-quickchart {\n",
              "    background-color: var(--bg-color);\n",
              "    border: none;\n",
              "    border-radius: 50%;\n",
              "    cursor: pointer;\n",
              "    display: none;\n",
              "    fill: var(--fill-color);\n",
              "    height: 32px;\n",
              "    padding: 0;\n",
              "    width: 32px;\n",
              "  }\n",
              "\n",
              "  .colab-df-quickchart:hover {\n",
              "    background-color: var(--hover-bg-color);\n",
              "    box-shadow: 0 1px 2px rgba(60, 64, 67, 0.3), 0 1px 3px 1px rgba(60, 64, 67, 0.15);\n",
              "    fill: var(--button-hover-fill-color);\n",
              "  }\n",
              "\n",
              "  .colab-df-quickchart-complete:disabled,\n",
              "  .colab-df-quickchart-complete:disabled:hover {\n",
              "    background-color: var(--disabled-bg-color);\n",
              "    fill: var(--disabled-fill-color);\n",
              "    box-shadow: none;\n",
              "  }\n",
              "\n",
              "  .colab-df-spinner {\n",
              "    border: 2px solid var(--fill-color);\n",
              "    border-color: transparent;\n",
              "    border-bottom-color: var(--fill-color);\n",
              "    animation:\n",
              "      spin 1s steps(1) infinite;\n",
              "  }\n",
              "\n",
              "  @keyframes spin {\n",
              "    0% {\n",
              "      border-color: transparent;\n",
              "      border-bottom-color: var(--fill-color);\n",
              "      border-left-color: var(--fill-color);\n",
              "    }\n",
              "    20% {\n",
              "      border-color: transparent;\n",
              "      border-left-color: var(--fill-color);\n",
              "      border-top-color: var(--fill-color);\n",
              "    }\n",
              "    30% {\n",
              "      border-color: transparent;\n",
              "      border-left-color: var(--fill-color);\n",
              "      border-top-color: var(--fill-color);\n",
              "      border-right-color: var(--fill-color);\n",
              "    }\n",
              "    40% {\n",
              "      border-color: transparent;\n",
              "      border-right-color: var(--fill-color);\n",
              "      border-top-color: var(--fill-color);\n",
              "    }\n",
              "    60% {\n",
              "      border-color: transparent;\n",
              "      border-right-color: var(--fill-color);\n",
              "    }\n",
              "    80% {\n",
              "      border-color: transparent;\n",
              "      border-right-color: var(--fill-color);\n",
              "      border-bottom-color: var(--fill-color);\n",
              "    }\n",
              "    90% {\n",
              "      border-color: transparent;\n",
              "      border-bottom-color: var(--fill-color);\n",
              "    }\n",
              "  }\n",
              "</style>\n",
              "\n",
              "  <script>\n",
              "    async function quickchart(key) {\n",
              "      const quickchartButtonEl =\n",
              "        document.querySelector('#' + key + ' button');\n",
              "      quickchartButtonEl.disabled = true;  // To prevent multiple clicks.\n",
              "      quickchartButtonEl.classList.add('colab-df-spinner');\n",
              "      try {\n",
              "        const charts = await google.colab.kernel.invokeFunction(\n",
              "            'suggestCharts', [key], {});\n",
              "      } catch (error) {\n",
              "        console.error('Error during call to suggestCharts:', error);\n",
              "      }\n",
              "      quickchartButtonEl.classList.remove('colab-df-spinner');\n",
              "      quickchartButtonEl.classList.add('colab-df-quickchart-complete');\n",
              "    }\n",
              "    (() => {\n",
              "      let quickchartButtonEl =\n",
              "        document.querySelector('#df-1c182fc9-e96a-4490-8b4e-9db363ad0f9a button');\n",
              "      quickchartButtonEl.style.display =\n",
              "        google.colab.kernel.accessAllowed ? 'block' : 'none';\n",
              "    })();\n",
              "  </script>\n",
              "</div>\n",
              "\n",
              "    </div>\n",
              "  </div>\n"
            ],
            "text/plain": [
              "             timestamp      open      high       low     close    volume  \\\n",
              "0  2023-08-01 13:19:00  28902.48  28902.49  28902.48  28902.49   4.68658   \n",
              "1  2023-08-01 13:18:00  28902.48  28902.49  28902.48  28902.49   4.77589   \n",
              "2  2023-08-01 13:17:00  28908.52  28908.53  28902.48  28902.49  11.52263   \n",
              "3  2023-08-01 13:16:00  28907.41  28912.74  28907.41  28908.53  15.89610   \n",
              "4  2023-08-01 13:15:00  28896.00  28907.42  28893.03  28907.41  37.74657   \n",
              "\n",
              "   quote_asset_volume  number_of_trades  taker_buy_base_asset_volume  \\\n",
              "0        1.354538e+05               258                      0.89391   \n",
              "1        1.380351e+05               317                      2.24546   \n",
              "2        3.330532e+05               451                      2.70873   \n",
              "3        4.595556e+05               483                     10.22981   \n",
              "4        1.090761e+06               686                     16.50452   \n",
              "\n",
              "   taker_buy_quote_asset_volume  \n",
              "0                  25836.224836  \n",
              "1                  64899.385195  \n",
              "2                  78290.170121  \n",
              "3                 295738.166916  \n",
              "4                 476955.246611  "
            ]
          },
          "execution_count": 4,
          "metadata": {},
          "output_type": "execute_result"
        }
      ],
      "source": [
        "df = pd.read_csv(os.path.join(path, \"bitcoin_2017_to_2023.csv\"))\n",
        "df = df[:100000]\n",
        "df.head()"
      ]
    },
    {
      "cell_type": "code",
      "execution_count": null,
      "metadata": {
        "colab": {
          "base_uri": "https://localhost:8080/"
        },
        "id": "355MeIOeUv33",
        "outputId": "7213a6ea-1607-409b-874c-2a4aa344fcce"
      },
      "outputs": [
        {
          "name": "stdout",
          "output_type": "stream",
          "text": [
            "71084\n",
            "count    100000.000000\n",
            "mean      28694.226620\n",
            "std        1849.109425\n",
            "min       24856.980000\n",
            "25%       26766.497500\n",
            "50%       29352.910000\n",
            "75%       30298.152500\n",
            "max       31798.000000\n",
            "Name: close, dtype: float64\n"
          ]
        }
      ],
      "source": [
        "print(df['close'].nunique())  "
      ]
    },
    {
      "cell_type": "code",
      "execution_count": null,
      "metadata": {},
      "outputs": [],
      "source": [
        "print(df['close'].describe())  "
      ]
    },
    {
      "cell_type": "code",
      "execution_count": null,
      "metadata": {
        "id": "omvf6Z1VYIpm"
      },
      "outputs": [],
      "source": [
        "df['close'] += np.random.normal(0, 0.01, len(df))  "
      ]
    },
    {
      "cell_type": "code",
      "execution_count": null,
      "metadata": {
        "colab": {
          "base_uri": "https://localhost:8080/"
        },
        "id": "3YawDj7NgLRr",
        "outputId": "5731ae91-f5a2-4e2d-adb8-f7401fd69867"
      },
      "outputs": [
        {
          "data": {
            "text/plain": [
              "Index(['timestamp', 'open', 'high', 'low', 'close', 'volume',\n",
              "       'quote_asset_volume', 'number_of_trades', 'taker_buy_base_asset_volume',\n",
              "       'taker_buy_quote_asset_volume'],\n",
              "      dtype='object')"
            ]
          },
          "execution_count": 7,
          "metadata": {},
          "output_type": "execute_result"
        }
      ],
      "source": [
        "df.columns"
      ]
    },
    {
      "cell_type": "markdown",
      "metadata": {
        "id": "xbZ95hHptSWA"
      },
      "source": [
        "#Data Preprocessing"
      ]
    },
    {
      "cell_type": "code",
      "execution_count": null,
      "metadata": {
        "id": "12WBdoW1gGOD"
      },
      "outputs": [],
      "source": [
        "df[\"timestamp\"] = pd.to_datetime(df[\"timestamp\"])\n",
        "df.set_index('timestamp', inplace = True)"
      ]
    },
    {
      "cell_type": "markdown",
      "metadata": {
        "id": "IgDwiYQO1I8u"
      },
      "source": [
        "Spliting the data for ARIMA and LSTM"
      ]
    },
    {
      "cell_type": "code",
      "execution_count": null,
      "metadata": {
        "id": "Y-LsLIn9uGvj"
      },
      "outputs": [],
      "source": [
        "#ARIMA\n",
        "df_arima = df[['close']]\n",
        "train_size = int(len(df_arima) * 0.8)\n",
        "train_arima, test_arima = df_arima[0:train_size], df_arima[train_size:len(df_arima)]\n",
        "\n",
        "#LSTM\n",
        "df_lstm = df[[\"open\",\t\"high\",\t\"low\", \"volume\",\t\"quote_asset_volume\",\t\"number_of_trades\",\t\"taker_buy_base_asset_volume\",\t\"taker_buy_quote_asset_volume\"]]\n",
        "\n",
        "#Normalising the dataset for lstm\n",
        "from sklearn.preprocessing import MinMaxScaler\n",
        "scaler = MinMaxScaler()\n",
        "df_lstm = scaler.fit_transform(df_lstm)\n",
        "\n",
        "train_size = int(len(df_lstm) * 0.8)\n",
        "train_lstm, test_lstm = df_lstm[0:train_size], df_lstm[train_size:len(df_lstm)]"
      ]
    },
    {
      "cell_type": "markdown",
      "metadata": {
        "id": "MqWB_B0i1Ph0"
      },
      "source": [
        "Creating Sequentil data for lstm"
      ]
    },
    {
      "cell_type": "code",
      "execution_count": null,
      "metadata": {
        "colab": {
          "base_uri": "https://localhost:8080/"
        },
        "id": "AHiV97qx8UKg",
        "outputId": "06573bcc-771e-4e24-80e5-b040339f3d90"
      },
      "outputs": [
        {
          "name": "stdout",
          "output_type": "stream",
          "text": [
            "SARIMA Model MAE: 409.33000713250135\n"
          ]
        }
      ],
      "source": [
        "import warnings\n",
        "from statsmodels.tsa.statespace.sarimax import SARIMAX\n",
        "from sklearn.metrics import mean_absolute_error\n",
        "\n",
        "warnings.filterwarnings(\"ignore\")\n",
        "\n",
        "# Check and preprocess data\n",
        "train_arima = train_arima.dropna()\n",
        "test_arima = test_arima.dropna()\n",
        "\n",
        "# Define seasonal order\n",
        "seasonal_order = (1, 1, 1, 12)\n",
        "\n",
        "# Train SARIMA model with optimizations\n",
        "sarima_model = SARIMAX(train_arima['close'],\n",
        "                       order=(1, 1, 1),\n",
        "                       seasonal_order=seasonal_order,\n",
        "                       initialization='approximate_diffuse',\n",
        "                       low_memory=True)\n",
        "\n",
        "sarima_model_fit = sarima_model.fit(maxiter=50, disp=False)\n",
        "\n",
        "# Make predictions\n",
        "sarima_pred = sarima_model_fit.forecast(steps=len(test_arima))\n",
        "\n",
        "# Evaluate model\n",
        "mae_sarima = mean_absolute_error(test_arima['close'], sarima_pred)\n",
        "print(f\"SARIMA Model MAE: {mae_sarima}\")"
      ]
    },
    {
      "cell_type": "code",
      "execution_count": null,
      "metadata": {
        "colab": {
          "base_uri": "https://localhost:8080/"
        },
        "id": "pmUdjNqJzHad",
        "outputId": "1461c511-300d-491f-a3d6-a01039448079"
      },
      "outputs": [
        {
          "name": "stdout",
          "output_type": "stream",
          "text": [
            "DatetimeIndex(['2023-06-07 00:00:00', '2023-06-07 00:01:00',\n",
            "               '2023-06-07 00:02:00', '2023-06-07 00:03:00',\n",
            "               '2023-06-07 00:04:00'],\n",
            "              dtype='datetime64[ns]', name='timestamp', freq=None)\n"
          ]
        }
      ],
      "source": [
        "#Sorting for predicting the future values\n",
        "train_arima = train_arima.sort_index()\n",
        "print(train_arima.index[:5])"
      ]
    },
    {
      "cell_type": "code",
      "execution_count": null,
      "metadata": {
        "id": "RCsgXALR4Q4M"
      },
      "outputs": [],
      "source": [
        "train_arima = train_arima.resample('1D').mean()"
      ]
    },
    {
      "cell_type": "code",
      "execution_count": null,
      "metadata": {
        "colab": {
          "base_uri": "https://localhost:8080/"
        },
        "id": "lppJIB294moh",
        "outputId": "5703bda2-ddbc-435b-f71e-350cec81b0db"
      },
      "outputs": [
        {
          "name": "stdout",
          "output_type": "stream",
          "text": [
            "DatetimeIndex(['2023-06-07', '2023-06-08', '2023-06-09', '2023-06-10',\n",
            "               '2023-06-11'],\n",
            "              dtype='datetime64[ns]', name='timestamp', freq='D')\n"
          ]
        }
      ],
      "source": [
        "print(train_arima.index[:5])"
      ]
    },
    {
      "cell_type": "code",
      "execution_count": null,
      "metadata": {
        "id": "7AuvwcBMsGcQ"
      },
      "outputs": [],
      "source": [
        "def predict_sarima_future(model,inp, steps=1):\n",
        "    \"\"\"\n",
        "    Function to take user input and predict future values using the trained SARIMA model.\n",
        "\n",
        "    Parameters:\n",
        "        model: Trained SARIMA model\n",
        "        steps: Number of future time steps to predict (default = 1)\n",
        "\n",
        "    Returns:\n",
        "        Predicted values\n",
        "    \"\"\"\n",
        "    try:\n",
        "        steps = inp\n",
        "        if steps < 1:\n",
        "            print(\"Please enter a positive integer.\")\n",
        "            return\n",
        "\n",
        "        future_predictions = model.forecast(steps=steps)\n",
        "\n",
        "        final=0;\n",
        "        for i, pred in enumerate(future_predictions, 1):\n",
        "\n",
        "            final=pred\n",
        "        return final;\n",
        "\n",
        "    except ValueError:\n",
        "        print(\"Invalid input! Please enter a valid number.\")\n",
        "\n",
        "# Call the function after training SARIMA\n",
        "\n"
      ]
    },
    {
      "cell_type": "code",
      "execution_count": null,
      "metadata": {
        "colab": {
          "base_uri": "https://localhost:8080/"
        },
        "id": "SUZ1hjaauaAm",
        "outputId": "37fc8f51-33ae-4b67-ce7e-92e0aeae1031"
      },
      "outputs": [
        {
          "name": "stdout",
          "output_type": "stream",
          "text": [
            "Requirement already satisfied: flask in /usr/local/lib/python3.11/dist-packages (3.1.0)\n",
            "Collecting flask-cors\n",
            "  Downloading flask_cors-5.0.1-py3-none-any.whl.metadata (961 bytes)\n",
            "Collecting pyngrok\n",
            "  Downloading pyngrok-7.2.4-py3-none-any.whl.metadata (8.7 kB)\n",
            "Requirement already satisfied: Werkzeug>=3.1 in /usr/local/lib/python3.11/dist-packages (from flask) (3.1.3)\n",
            "Requirement already satisfied: Jinja2>=3.1.2 in /usr/local/lib/python3.11/dist-packages (from flask) (3.1.6)\n",
            "Requirement already satisfied: itsdangerous>=2.2 in /usr/local/lib/python3.11/dist-packages (from flask) (2.2.0)\n",
            "Requirement already satisfied: click>=8.1.3 in /usr/local/lib/python3.11/dist-packages (from flask) (8.1.8)\n",
            "Requirement already satisfied: blinker>=1.9 in /usr/local/lib/python3.11/dist-packages (from flask) (1.9.0)\n",
            "Requirement already satisfied: PyYAML>=5.1 in /usr/local/lib/python3.11/dist-packages (from pyngrok) (6.0.2)\n",
            "Requirement already satisfied: MarkupSafe>=2.0 in /usr/local/lib/python3.11/dist-packages (from Jinja2>=3.1.2->flask) (3.0.2)\n",
            "Downloading flask_cors-5.0.1-py3-none-any.whl (11 kB)\n",
            "Downloading pyngrok-7.2.4-py3-none-any.whl (23 kB)\n",
            "Installing collected packages: pyngrok, flask-cors\n",
            "Successfully installed flask-cors-5.0.1 pyngrok-7.2.4\n"
          ]
        }
      ],
      "source": [
        "!pip install flask flask-cors pyngrok\n",
        "\n"
      ]
    },
    {
      "cell_type": "code",
      "execution_count": null,
      "metadata": {
        "colab": {
          "base_uri": "https://localhost:8080/"
        },
        "id": "CjDSXskaNH8e",
        "outputId": "925fd381-4e26-476e-beec-1cc5a1824297"
      },
      "outputs": [
        {
          "name": "stdout",
          "output_type": "stream",
          "text": [
            "Public URL: NgrokTunnel: \"https://f38d-34-126-72-144.ngrok-free.app\" -> \"http://localhost:5000\"\n",
            " * Serving Flask app '__main__'\n",
            " * Debug mode: on\n"
          ]
        },
        {
          "name": "stderr",
          "output_type": "stream",
          "text": [
            "INFO:werkzeug:\u001b[31m\u001b[1mWARNING: This is a development server. Do not use it in a production deployment. Use a production WSGI server instead.\u001b[0m\n",
            " * Running on http://127.0.0.1:5000\n",
            "INFO:werkzeug:\u001b[33mPress CTRL+C to quit\u001b[0m\n",
            "INFO:werkzeug:127.0.0.1 - - [16/Apr/2025 16:38:16] \"OPTIONS /predict HTTP/1.1\" 200 -\n",
            "INFO:werkzeug:127.0.0.1 - - [16/Apr/2025 16:38:17] \"POST /predict HTTP/1.1\" 200 -\n"
          ]
        },
        {
          "name": "stdout",
          "output_type": "stream",
          "text": [
            "Received data: {'interval': '6'}\n",
            "Prediction: 27236.064092152694\n"
          ]
        },
        {
          "name": "stderr",
          "output_type": "stream",
          "text": [
            "INFO:werkzeug:127.0.0.1 - - [16/Apr/2025 16:38:35] \"OPTIONS /predict HTTP/1.1\" 200 -\n",
            "INFO:werkzeug:127.0.0.1 - - [16/Apr/2025 16:38:36] \"POST /predict HTTP/1.1\" 200 -\n"
          ]
        },
        {
          "name": "stdout",
          "output_type": "stream",
          "text": [
            "Received data: {'interval': '56'}\n",
            "Prediction: 27234.18541305449\n"
          ]
        },
        {
          "name": "stderr",
          "output_type": "stream",
          "text": [
            "INFO:werkzeug:127.0.0.1 - - [16/Apr/2025 16:45:30] \"OPTIONS /predict HTTP/1.1\" 200 -\n",
            "INFO:werkzeug:127.0.0.1 - - [16/Apr/2025 16:45:31] \"POST /predict HTTP/1.1\" 200 -\n"
          ]
        },
        {
          "name": "stdout",
          "output_type": "stream",
          "text": [
            "Received data: {'interval': '6'}\n",
            "Prediction: 27236.064092152694\n"
          ]
        },
        {
          "name": "stderr",
          "output_type": "stream",
          "text": [
            "INFO:werkzeug:127.0.0.1 - - [16/Apr/2025 16:45:54] \"OPTIONS /predict HTTP/1.1\" 200 -\n",
            "INFO:werkzeug:127.0.0.1 - - [16/Apr/2025 16:45:55] \"POST /predict HTTP/1.1\" 200 -\n"
          ]
        },
        {
          "name": "stdout",
          "output_type": "stream",
          "text": [
            "Received data: {'interval': '56'}\n",
            "Prediction: 27234.18541305449\n"
          ]
        },
        {
          "name": "stderr",
          "output_type": "stream",
          "text": [
            "INFO:werkzeug:127.0.0.1 - - [16/Apr/2025 16:46:33] \"OPTIONS /predict HTTP/1.1\" 200 -\n",
            "INFO:werkzeug:127.0.0.1 - - [16/Apr/2025 16:46:33] \"OPTIONS /predict HTTP/1.1\" 200 -\n",
            "INFO:werkzeug:127.0.0.1 - - [16/Apr/2025 16:46:34] \"POST /predict HTTP/1.1\" 200 -\n",
            "INFO:werkzeug:127.0.0.1 - - [16/Apr/2025 16:46:34] \"POST /predict HTTP/1.1\" 200 -\n"
          ]
        },
        {
          "name": "stdout",
          "output_type": "stream",
          "text": [
            "Received data: {'interval': '4'}\n",
            "Prediction: 27236.14321150357\n",
            "Received data: {'interval': '4'}\n",
            "Prediction: 27236.14321150357\n"
          ]
        },
        {
          "name": "stderr",
          "output_type": "stream",
          "text": [
            "INFO:werkzeug:127.0.0.1 - - [16/Apr/2025 16:46:45] \"OPTIONS /predict HTTP/1.1\" 200 -\n",
            "INFO:werkzeug:127.0.0.1 - - [16/Apr/2025 16:46:45] \"POST /predict HTTP/1.1\" 200 -\n"
          ]
        },
        {
          "name": "stdout",
          "output_type": "stream",
          "text": [
            "Received data: {'interval': '7'}\n",
            "Prediction: 27235.858369395566\n"
          ]
        }
      ],
      "source": [
        "from flask import Flask, request, jsonify\n",
        "from flask_cors import CORS\n",
        "from pyngrok import ngrok\n",
        "import json\n",
        "# Replace with your actual ML model\n",
        "app = Flask(__name__)\n",
        "CORS(app)\n",
        "ngrok.set_auth_token(\"2ujFnfmrq1WPuzj4pn3OSTy23Ez_khzcubqDjPFpY9hZbjWx\")\n",
        "\n",
        "# 2. Now connect\n",
        "public_url = ngrok.connect(5000)\n",
        "print(\"Public URL:\", public_url)\n",
        "  # Enable cross-origin requests\n",
        "\n",
        "@app.route('/predict', methods=['POST'])\n",
        "def predict():\n",
        "    try:\n",
        "        data = request.get_json()\n",
        "        print(\"Received data:\", data)\n",
        "\n",
        "        interval = int(data.get(\"interval\", 1))\n",
        "        if not interval:\n",
        "            return jsonify({\"error\": \"No interval provided\"}), 400\n",
        "\n",
        "\n",
        "        prediction = predict_sarima_future(sarima_model_fit, interval)\n",
        "\n",
        "        print(\"Prediction:\", prediction)\n",
        "        return jsonify({\"prediction\": prediction})\n",
        "\n",
        "    except ValueError:\n",
        "        return jsonify({\"error\": \"Invalid interval format\"}), 400\n",
        "    except Exception as e:\n",
        "        print(\"Error:\", str(e))  # Print error\n",
        "        return jsonify({\"error\": \"Prediction failed\"}), 500\n",
        "\n",
        "app.run(port=5000, debug=True, use_reloader=False)\n"
      ]
    },
    {
      "cell_type": "code",
      "execution_count": null,
      "metadata": {
        "colab": {
          "base_uri": "https://localhost:8080/"
        },
        "id": "tx_KtHFzO0-r",
        "outputId": "35d8c4ce-c13f-4749-9452-ab7b04c824c7"
      },
      "outputs": [
        {
          "name": "stdout",
          "output_type": "stream",
          "text": [
            "Requirement already satisfied: pyngrok in /usr/local/lib/python3.11/dist-packages (7.2.4)\n",
            "Requirement already satisfied: PyYAML>=5.1 in /usr/local/lib/python3.11/dist-packages (from pyngrok) (6.0.2)\n",
            "Public URL: NgrokTunnel: \"https://d6dd-34-126-72-144.ngrok-free.app\" -> \"http://localhost:5000\"\n"
          ]
        }
      ],
      "source": [
        "!pip install pyngrok\n",
        "from pyngrok import ngrok\n",
        "\n",
        "# 1. Get your authtoken from https://dashboard.ngrok.com/get-started/your-authtoken\n",
        "# and replace \"YOUR_AUTHTOKEN\" with your actual token\n",
        "ngrok.set_auth_token(\"2ujFnfmrq1WPuzj4pn3OSTy23Ez_khzcubqDjPFpY9hZbjWx\")\n",
        "\n",
        "# 2. Now connect\n",
        "public_url = ngrok.connect(5000)\n",
        "print(\"Public URL:\", public_url)"
      ]
    },
    {
      "cell_type": "markdown",
      "metadata": {
        "id": "IrLvjl7MNH1a"
      },
      "source": []
    }
  ],
  "metadata": {
    "accelerator": "GPU",
    "colab": {
      "gpuType": "T4",
      "provenance": []
    },
    "kernelspec": {
      "display_name": "Python 3",
      "name": "python3"
    },
    "language_info": {
      "name": "python"
    }
  },
  "nbformat": 4,
  "nbformat_minor": 0
}
